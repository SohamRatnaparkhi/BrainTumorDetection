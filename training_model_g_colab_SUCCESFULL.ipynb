{
  "cells": [
    {
      "cell_type": "markdown",
      "metadata": {
        "id": "view-in-github",
        "colab_type": "text"
      },
      "source": [
        "<a href=\"https://colab.research.google.com/github/SohamRatnaparkhi/BrainTumorDetection/blob/main/training_model_g_colab_SUCCESFULL.ipynb\" target=\"_parent\"><img src=\"https://colab.research.google.com/assets/colab-badge.svg\" alt=\"Open In Colab\"/></a>"
      ]
    },
    {
      "cell_type": "code",
      "execution_count": 2,
      "metadata": {
        "id": "UtrsM6cwZUl0"
      },
      "outputs": [],
      "source": [
        "import tensorflow as tf\n",
        "import numpy as np\n",
        "import matplotlib.pyplot as plt\n",
        "import cv2 as cv\n",
        "from PIL import Image"
      ]
    },
    {
      "cell_type": "code",
      "source": [
        "tf.test.gpu_device_name()"
      ],
      "metadata": {
        "id": "T-4PeDtnHzpU",
        "outputId": "b27bfd65-49c3-4040-f022-5569b3c65a2e",
        "colab": {
          "base_uri": "https://localhost:8080/",
          "height": 35
        }
      },
      "execution_count": 12,
      "outputs": [
        {
          "output_type": "execute_result",
          "data": {
            "text/plain": [
              "'/device:GPU:0'"
            ],
            "application/vnd.google.colaboratory.intrinsic+json": {
              "type": "string"
            }
          },
          "metadata": {},
          "execution_count": 12
        }
      ]
    },
    {
      "cell_type": "markdown",
      "metadata": {
        "id": "8BGP4GsXZUl7"
      },
      "source": [
        "# Data managing"
      ]
    },
    {
      "cell_type": "markdown",
      "source": [
        "Unzipping data"
      ],
      "metadata": {
        "id": "vCdFDcMFcHaW"
      }
    },
    {
      "cell_type": "code",
      "source": [
        "!unzip \"/content/brain_tumor_dataset.zip\""
      ],
      "metadata": {
        "id": "pi9E0bEVcLGW"
      },
      "execution_count": null,
      "outputs": []
    },
    {
      "cell_type": "code",
      "source": [
        ""
      ],
      "metadata": {
        "id": "tTxOAXhgcGk8"
      },
      "execution_count": null,
      "outputs": []
    },
    {
      "cell_type": "markdown",
      "metadata": {
        "id": "s0lIBdDXZUl-"
      },
      "source": [
        "Declaring Constants"
      ]
    },
    {
      "cell_type": "code",
      "execution_count": 5,
      "metadata": {
        "id": "mD8qc2hxZUl_"
      },
      "outputs": [],
      "source": [
        "SIZE = 64\n",
        "path = r\"/content/brain_tumor_dataset\""
      ]
    },
    {
      "cell_type": "code",
      "source": [
        "import os"
      ],
      "metadata": {
        "id": "Kn1l0s2l9JYQ"
      },
      "execution_count": 6,
      "outputs": []
    },
    {
      "cell_type": "code",
      "source": [
        "len(list(os.listdir(path + \"/\" + \"yes\")))"
      ],
      "metadata": {
        "colab": {
          "base_uri": "https://localhost:8080/"
        },
        "id": "SSx6fF368w7b",
        "outputId": "97c2f68e-5a6f-444a-8bb6-6ec68a2703ac"
      },
      "execution_count": 7,
      "outputs": [
        {
          "output_type": "execute_result",
          "data": {
            "text/plain": [
              "1500"
            ]
          },
          "metadata": {},
          "execution_count": 7
        }
      ]
    },
    {
      "cell_type": "markdown",
      "metadata": {
        "id": "KQ_54t-zZUmA"
      },
      "source": [
        "Renaming the dataset in a better format for future use\n",
        "> **Note:** The code below should be run only once and not after that.  "
      ]
    },
    {
      "cell_type": "code",
      "execution_count": 8,
      "metadata": {
        "id": "yScebgDkZUmB",
        "outputId": "aa9e524f-a11c-455e-987a-569248316c01",
        "colab": {
          "base_uri": "https://localhost:8080/"
        }
      },
      "outputs": [
        {
          "output_type": "execute_result",
          "data": {
            "text/plain": [
              "['yes', 'pred', 'no', 'Br35H-Mask-RCNN']"
            ]
          },
          "metadata": {},
          "execution_count": 8
        }
      ],
      "source": [
        "import os\n",
        "\n",
        "# path = r\"D:\\College\\Capstone Project 2\\data\\brain_tumor_dataset\"\n",
        "path_items = os.listdir(path)\n",
        "path_items"
      ]
    },
    {
      "cell_type": "code",
      "execution_count": 9,
      "metadata": {
        "id": "HDtUNeRSZUmE"
      },
      "outputs": [],
      "source": [
        "import os\n",
        "\n",
        "# path = r\"D:\\College\\Capstone Project 2\\data\\brain_tumor_dataset\"\n",
        "path_items = os.listdir(path)\n",
        "\n",
        "yes_tumor_path = path + \"/\" + path_items[0]\n",
        "yes_tumor = os.listdir(yes_tumor_path)\n",
        "no_tumor_path = path + \"/\" + path_items[2]\n",
        "no_tumor = os.listdir(no_tumor_path)\n",
        "\n",
        "# try:\n",
        "#     y = 1\n",
        "#     for ytp in yes_tumor:\n",
        "#         os.rename(src = yes_tumor_path + \"/\" + ytp, dst = yes_tumor_path + \"/\" + f\"yes.{y}.jpg\")\n",
        "#         y += 1\n",
        "        \n",
        "#     n = 1\n",
        "#     for ntp in no_tumor:\n",
        "    \n",
        "#         os.rename(src = no_tumor_path + \"/\" + ntp, dst = no_tumor_path + \"/\" + f\"no.{n}.jpg\")\n",
        "#         n += 1\n",
        "# except Exception as e:\n",
        "#     print(e)\n",
        "\n"
      ]
    },
    {
      "cell_type": "code",
      "source": [
        "len(os.listdir(yes_tumor_path)), len(os.listdir(no_tumor_path))"
      ],
      "metadata": {
        "colab": {
          "base_uri": "https://localhost:8080/"
        },
        "id": "UBLaZxYr7W_n",
        "outputId": "03e716ca-feab-4cdd-cb3c-51f52969ef81"
      },
      "execution_count": 10,
      "outputs": [
        {
          "output_type": "execute_result",
          "data": {
            "text/plain": [
              "(1500, 1500)"
            ]
          },
          "metadata": {},
          "execution_count": 10
        }
      ]
    },
    {
      "cell_type": "markdown",
      "source": [
        "Resizing"
      ],
      "metadata": {
        "id": "ole87aCA5h5M"
      }
    },
    {
      "cell_type": "markdown",
      "metadata": {
        "id": "bVmkhhf8ZUmG"
      },
      "source": [
        "Creating a `data` - `label` pair for `images` and its `type`"
      ]
    },
    {
      "cell_type": "code",
      "source": [
        "from PIL import Image\n",
        "def resize_save(path, size = SIZE):\n",
        "    try:\n",
        "        im = Image.open(path)\n",
        "        im = im.resize((size, size))\n",
        "        im.save(path)\n",
        "    except:\n",
        "        print(path)\n",
        "\n",
        "# Resize yes_tumor images\n",
        "for p in yes_tumor:\n",
        "    path = yes_tumor_path+\"/\"+p\n",
        "    # resize_save(path)\n",
        "    try:\n",
        "        im = Image.open(path)\n",
        "        im = im.resize((64,64))\n",
        "        im.save(path)\n",
        "    except:\n",
        "        print(path)\n",
        "        break\n",
        "\n",
        "# Resize no_tumor\n",
        "for p in no_tumor:\n",
        "    path = no_tumor_path+\"/\"+p\n",
        "    # resize_save(path)\n",
        "    try:\n",
        "        im = Image.open(path)\n",
        "        im = im.resize((64, 64))\n",
        "        im.save(path)\n",
        "    except:\n",
        "        print(path)\n",
        "        break"
      ],
      "metadata": {
        "id": "k8SFmJB_5kQJ"
      },
      "execution_count": 11,
      "outputs": []
    },
    {
      "cell_type": "code",
      "source": [
        "len(os.listdir(yes_tumor_path)), len(os.listdir(no_tumor_path))"
      ],
      "metadata": {
        "id": "h4iLE62m-imt",
        "outputId": "67ae63ce-2242-430c-93e9-6433eb14246f",
        "colab": {
          "base_uri": "https://localhost:8080/"
        }
      },
      "execution_count": 13,
      "outputs": [
        {
          "output_type": "execute_result",
          "data": {
            "text/plain": [
              "(1500, 1500)"
            ]
          },
          "metadata": {},
          "execution_count": 13
        }
      ]
    },
    {
      "cell_type": "code",
      "source": [
        "n, y = 0, 0"
      ],
      "metadata": {
        "id": "6xC4oYrf_DZO"
      },
      "execution_count": 14,
      "outputs": []
    },
    {
      "cell_type": "code",
      "source": [
        "no_tumor[0]"
      ],
      "metadata": {
        "id": "sNYE-6cz_sbM",
        "outputId": "f95cfb01-a2c4-4bdf-9e7f-163acdff62a6",
        "colab": {
          "base_uri": "https://localhost:8080/",
          "height": 35
        }
      },
      "execution_count": 15,
      "outputs": [
        {
          "output_type": "execute_result",
          "data": {
            "text/plain": [
              "'no.1176.jpg'"
            ],
            "application/vnd.google.colaboratory.intrinsic+json": {
              "type": "string"
            }
          },
          "metadata": {},
          "execution_count": 15
        }
      ]
    },
    {
      "cell_type": "code",
      "execution_count": 60,
      "metadata": {
        "id": "zm43pf_CZUmH"
      },
      "outputs": [],
      "source": [
        "data = []\n",
        "label = []\n",
        "\n",
        "# For no tumor \n",
        "for image in no_tumor:\n",
        "    path = no_tumor_path + \"/\" + image\n",
        "    image = cv.imread(path)\n",
        "    # r_image = cv.resize(src = image, dsize = (SIZE, SIZE))\n",
        "\n",
        "    data.append(image)\n",
        "    label.append(0)"
      ]
    },
    {
      "cell_type": "code",
      "source": [
        "len(os.listdir(yes_tumor_path)), len(os.listdir(no_tumor_path))"
      ],
      "metadata": {
        "id": "De4VX36d_Py6",
        "outputId": "92bb0fc7-988d-4865-fea5-eae0c3de8374",
        "colab": {
          "base_uri": "https://localhost:8080/"
        }
      },
      "execution_count": 61,
      "outputs": [
        {
          "output_type": "execute_result",
          "data": {
            "text/plain": [
              "(1500, 1500)"
            ]
          },
          "metadata": {},
          "execution_count": 61
        }
      ]
    },
    {
      "cell_type": "code",
      "source": [
        "len(data) "
      ],
      "metadata": {
        "id": "6uzO9BGk-mp1",
        "outputId": "523d53b3-b62b-406f-d0e7-32947d34b108",
        "colab": {
          "base_uri": "https://localhost:8080/"
        }
      },
      "execution_count": 62,
      "outputs": [
        {
          "output_type": "execute_result",
          "data": {
            "text/plain": [
              "1500"
            ]
          },
          "metadata": {},
          "execution_count": 62
        }
      ]
    },
    {
      "cell_type": "code",
      "execution_count": 63,
      "metadata": {
        "id": "YYU3dOpiZUmI"
      },
      "outputs": [],
      "source": [
        "#for yes tumor - 1\n",
        "for image in yes_tumor:\n",
        "    path = yes_tumor_path + \"/\" + image\n",
        "    image = cv.imread(path)\n",
        "    # r_image = cv.resize(src = image, dsize = (SIZE, SIZE))\n",
        "\n",
        "    data.append(image)\n",
        "    label.append(1)"
      ]
    },
    {
      "cell_type": "code",
      "source": [
        "len(data)"
      ],
      "metadata": {
        "id": "dDjDe00Q--lD",
        "outputId": "efa9d11d-a670-4ff1-f258-4c7f7d9ab828",
        "colab": {
          "base_uri": "https://localhost:8080/"
        }
      },
      "execution_count": 64,
      "outputs": [
        {
          "output_type": "execute_result",
          "data": {
            "text/plain": [
              "3000"
            ]
          },
          "metadata": {},
          "execution_count": 64
        }
      ]
    },
    {
      "cell_type": "markdown",
      "metadata": {
        "id": "P0PvWhl2ZUmJ"
      },
      "source": [
        "OneHotEncoding the labels\n",
        "> yes_tumour -> 1\n",
        "\n",
        "> no_tumour -> 0"
      ]
    },
    {
      "cell_type": "code",
      "source": [
        "import numpy as np\n",
        "data = np.array(data) / 255.0\n",
        "label = np.array(label)\n",
        "\n",
        "data.shape, label.shape"
      ],
      "metadata": {
        "colab": {
          "base_uri": "https://localhost:8080/"
        },
        "id": "0vdQKtTR-G5e",
        "outputId": "e1bdb686-200b-4991-a8c4-64421cb14c6f"
      },
      "execution_count": 65,
      "outputs": [
        {
          "output_type": "execute_result",
          "data": {
            "text/plain": [
              "((3000, 64, 64, 3), (3000,))"
            ]
          },
          "metadata": {},
          "execution_count": 65
        }
      ]
    },
    {
      "cell_type": "code",
      "execution_count": 66,
      "metadata": {
        "id": "-f68HYsRZUmK",
        "outputId": "125def48-d996-4177-9159-231deffc25cc",
        "colab": {
          "base_uri": "https://localhost:8080/"
        }
      },
      "outputs": [
        {
          "output_type": "execute_result",
          "data": {
            "text/plain": [
              "array([0, 0, 0, ..., 1, 1, 1])"
            ]
          },
          "metadata": {},
          "execution_count": 66
        }
      ],
      "source": [
        "# for i in range(3000):\n",
        "#   if label[i] == \"yes\":\n",
        "#     label[i] = 1\n",
        "#   else:\n",
        "#     label[i] = 0\n",
        "label"
      ]
    },
    {
      "cell_type": "code",
      "source": [
        "data.shape, label.shape"
      ],
      "metadata": {
        "id": "umMD2VN1J3Zp",
        "outputId": "f35e6446-3952-4ceb-c3f8-b336e2f218cb",
        "colab": {
          "base_uri": "https://localhost:8080/"
        }
      },
      "execution_count": 67,
      "outputs": [
        {
          "output_type": "execute_result",
          "data": {
            "text/plain": [
              "((3000, 64, 64, 3), (3000,))"
            ]
          },
          "metadata": {},
          "execution_count": 67
        }
      ]
    },
    {
      "cell_type": "code",
      "execution_count": 68,
      "metadata": {
        "id": "geJjgHkfZUmL"
      },
      "outputs": [],
      "source": [
        "from sklearn.model_selection import train_test_split as tts\n",
        "\n",
        "x_train, x_test, y_train, y_test = tts(data, label, test_size = 0.20, random_state = 0)"
      ]
    },
    {
      "cell_type": "code",
      "source": [
        "x_train.shape, x_test.shape, y_train.shape, y_test.shape"
      ],
      "metadata": {
        "id": "VJGkrX2ZJtRu",
        "outputId": "478f018e-11b6-4f17-d1bd-4782b6b3bc8b",
        "colab": {
          "base_uri": "https://localhost:8080/"
        }
      },
      "execution_count": 69,
      "outputs": [
        {
          "output_type": "execute_result",
          "data": {
            "text/plain": [
              "((2400, 64, 64, 3), (600, 64, 64, 3), (2400,), (600,))"
            ]
          },
          "metadata": {},
          "execution_count": 69
        }
      ]
    },
    {
      "cell_type": "code",
      "source": [
        "x_train.shape, y_train.shape, x_test.shape, y_test.shape"
      ],
      "metadata": {
        "colab": {
          "base_uri": "https://localhost:8080/"
        },
        "id": "fAOCAIVd-CTh",
        "outputId": "2d94c056-095d-43e2-ba5e-6362b3e2a155"
      },
      "execution_count": 74,
      "outputs": [
        {
          "output_type": "execute_result",
          "data": {
            "text/plain": [
              "((2400, 64, 64, 3), (2400,), (600, 64, 64, 3), (600,))"
            ]
          },
          "metadata": {},
          "execution_count": 74
        }
      ]
    },
    {
      "cell_type": "markdown",
      "metadata": {
        "id": "TJBpOFFfZUmL"
      },
      "source": [
        "# Model Training"
      ]
    },
    {
      "cell_type": "markdown",
      "metadata": {
        "id": "QAhtg34RZUmM"
      },
      "source": [
        ""
      ]
    },
    {
      "cell_type": "code",
      "source": [
        "import tensorflow as tf"
      ],
      "metadata": {
        "id": "dS2h-KxCAGM2"
      },
      "execution_count": 25,
      "outputs": []
    },
    {
      "cell_type": "code",
      "source": [
        "model = tf.keras.models.Sequential()\n",
        "\n",
        "model.add(tf.keras.layers.Conv2D(32, kernel_size = 3, activation = \"relu\"))\n",
        "model.add(tf.keras.layers.MaxPooling2D(pool_size = (2,2)))\n",
        "\n",
        "model.add(tf.keras.layers.Conv2D(32, kernel_size = 3, activation = \"relu\", kernel_initializer='he_uniform'))\n",
        "model.add(tf.keras.layers.MaxPooling2D(pool_size = (2,2)))\n",
        "\n",
        "model.add(tf.keras.layers.Conv2D(64, kernel_size = 3, activation = \"relu\", kernel_initializer='he_uniform'))\n",
        "model.add(tf.keras.layers.MaxPooling2D(pool_size = (2,2)))\n",
        "\n",
        "model.add(tf.keras.layers.Flatten())\n",
        "\n",
        "model.add(tf.keras.layers.Dense(64, activation = \"relu\"))\n",
        "model.add(tf.keras.layers.Dropout(0.5))\n",
        "\n",
        "model.add(tf.keras.layers.Dense(1, activation = \"sigmoid\"))\n",
        "\n",
        "model.compile(loss = tf.keras.losses.BinaryCrossentropy(), optimizer=tf.keras.optimizers.Adam(), metrics = [\"accuracy\"])\n",
        "\n",
        "\n",
        "model.fit(x_train, y_train, batch_size = 16, epochs = 10, validation_data = (x_test, y_test))\n",
        "\n",
        "model.save(\"Brain_tumor_model_1.h5\")"
      ],
      "metadata": {
        "id": "-Gi_oggiApB3",
        "outputId": "0cfd388c-dded-485b-fe37-de104c200512",
        "colab": {
          "base_uri": "https://localhost:8080/"
        }
      },
      "execution_count": 71,
      "outputs": [
        {
          "output_type": "stream",
          "name": "stdout",
          "text": [
            "Epoch 1/10\n",
            "150/150 [==============================] - 14s 15ms/step - loss: 0.5303 - accuracy: 0.7375 - val_loss: 0.4101 - val_accuracy: 0.8033\n",
            "Epoch 2/10\n",
            "150/150 [==============================] - 2s 13ms/step - loss: 0.3868 - accuracy: 0.8354 - val_loss: 0.3777 - val_accuracy: 0.8383\n",
            "Epoch 3/10\n",
            "150/150 [==============================] - 2s 13ms/step - loss: 0.3057 - accuracy: 0.8771 - val_loss: 0.2564 - val_accuracy: 0.8933\n",
            "Epoch 4/10\n",
            "150/150 [==============================] - 2s 13ms/step - loss: 0.2294 - accuracy: 0.9096 - val_loss: 0.2553 - val_accuracy: 0.8833\n",
            "Epoch 5/10\n",
            "150/150 [==============================] - 2s 11ms/step - loss: 0.1476 - accuracy: 0.9492 - val_loss: 0.1717 - val_accuracy: 0.9400\n",
            "Epoch 6/10\n",
            "150/150 [==============================] - 2s 12ms/step - loss: 0.0996 - accuracy: 0.9688 - val_loss: 0.1563 - val_accuracy: 0.9417\n",
            "Epoch 7/10\n",
            "150/150 [==============================] - 2s 12ms/step - loss: 0.0604 - accuracy: 0.9804 - val_loss: 0.1771 - val_accuracy: 0.9433\n",
            "Epoch 8/10\n",
            "150/150 [==============================] - 2s 12ms/step - loss: 0.0454 - accuracy: 0.9879 - val_loss: 0.1559 - val_accuracy: 0.9450\n",
            "Epoch 9/10\n",
            "150/150 [==============================] - 2s 13ms/step - loss: 0.0352 - accuracy: 0.9908 - val_loss: 0.0814 - val_accuracy: 0.9717\n",
            "Epoch 10/10\n",
            "150/150 [==============================] - 2s 13ms/step - loss: 0.0246 - accuracy: 0.9929 - val_loss: 0.1652 - val_accuracy: 0.9433\n"
          ]
        }
      ]
    },
    {
      "cell_type": "code",
      "source": [
        "model.summary()"
      ],
      "metadata": {
        "id": "XS3-SV1YOJQf",
        "outputId": "ffca4103-3876-4d66-db1c-a0ebf1db1126",
        "colab": {
          "base_uri": "https://localhost:8080/"
        }
      },
      "execution_count": 72,
      "outputs": [
        {
          "output_type": "stream",
          "name": "stdout",
          "text": [
            "Model: \"sequential_5\"\n",
            "_________________________________________________________________\n",
            " Layer (type)                Output Shape              Param #   \n",
            "=================================================================\n",
            " conv2d_15 (Conv2D)          (None, 62, 62, 32)        896       \n",
            "                                                                 \n",
            " max_pooling2d_15 (MaxPoolin  (None, 31, 31, 32)       0         \n",
            " g2D)                                                            \n",
            "                                                                 \n",
            " conv2d_16 (Conv2D)          (None, 29, 29, 32)        9248      \n",
            "                                                                 \n",
            " max_pooling2d_16 (MaxPoolin  (None, 14, 14, 32)       0         \n",
            " g2D)                                                            \n",
            "                                                                 \n",
            " conv2d_17 (Conv2D)          (None, 12, 12, 64)        18496     \n",
            "                                                                 \n",
            " max_pooling2d_17 (MaxPoolin  (None, 6, 6, 64)         0         \n",
            " g2D)                                                            \n",
            "                                                                 \n",
            " flatten_5 (Flatten)         (None, 2304)              0         \n",
            "                                                                 \n",
            " dense_10 (Dense)            (None, 64)                147520    \n",
            "                                                                 \n",
            " dropout_5 (Dropout)         (None, 64)                0         \n",
            "                                                                 \n",
            " dense_11 (Dense)            (None, 1)                 65        \n",
            "                                                                 \n",
            "=================================================================\n",
            "Total params: 176,225\n",
            "Trainable params: 176,225\n",
            "Non-trainable params: 0\n",
            "_________________________________________________________________\n"
          ]
        }
      ]
    },
    {
      "cell_type": "code",
      "source": [
        "model_2 = tf.keras.models.Sequential()\n",
        "\n",
        "model_2.add(tf.keras.layers.Conv2D(32, kernel_size = 3, activation = \"relu\"))\n",
        "model_2.add(tf.keras.layers.MaxPooling2D(pool_size = (2,2)))\n",
        "\n",
        "model_2.add(tf.keras.layers.Conv2D(32, kernel_size = 3, activation = \"relu\", kernel_initializer='he_uniform'))\n",
        "model_2.add(tf.keras.layers.MaxPooling2D(pool_size = (2,2)))\n",
        "\n",
        "model_2.add(tf.keras.layers.Conv2D(64, kernel_size = 3, activation = \"relu\", kernel_initializer='he_uniform'))\n",
        "model_2.add(tf.keras.layers.MaxPooling2D(pool_size = (2,2)))\n",
        "\n",
        "model_2.add(tf.keras.layers.Flatten())\n",
        "\n",
        "model_2.add(tf.keras.layers.Dense(64, activation = \"relu\"))\n",
        "model_2.add(tf.keras.layers.Dropout(0.5))\n",
        "\n",
        "model_2.add(tf.keras.layers.Dense(1, activation = \"sigmoid\"))\n",
        "\n",
        "model_2.compile(loss = tf.keras.losses.BinaryCrossentropy(), optimizer=tf.keras.optimizers.Adam(), metrics = [\"accuracy\"])\n",
        "\n",
        "\n",
        "history_2 = model_2.fit(x_train, y_train, batch_size = 16, epochs = 9, validation_data = (x_test, y_test))\n",
        "\n",
        "model_2.save(\"Brain_tumor_model_2.h5\")"
      ],
      "metadata": {
        "id": "-oTS3Wj1Qfx4",
        "outputId": "0a23d4fe-4fc3-42af-e25d-1e90065b4cb6",
        "colab": {
          "base_uri": "https://localhost:8080/"
        }
      },
      "execution_count": 76,
      "outputs": [
        {
          "output_type": "stream",
          "name": "stdout",
          "text": [
            "Epoch 1/9\n",
            "150/150 [==============================] - 3s 14ms/step - loss: 0.5327 - accuracy: 0.7396 - val_loss: 0.4449 - val_accuracy: 0.7950\n",
            "Epoch 2/9\n",
            "150/150 [==============================] - 2s 13ms/step - loss: 0.3958 - accuracy: 0.8317 - val_loss: 0.3368 - val_accuracy: 0.8533\n",
            "Epoch 3/9\n",
            "150/150 [==============================] - 2s 12ms/step - loss: 0.3028 - accuracy: 0.8746 - val_loss: 0.2824 - val_accuracy: 0.8717\n",
            "Epoch 4/9\n",
            "150/150 [==============================] - 2s 13ms/step - loss: 0.2175 - accuracy: 0.9246 - val_loss: 0.1905 - val_accuracy: 0.9300\n",
            "Epoch 5/9\n",
            "150/150 [==============================] - 2s 12ms/step - loss: 0.1351 - accuracy: 0.9558 - val_loss: 0.1278 - val_accuracy: 0.9600\n",
            "Epoch 6/9\n",
            "150/150 [==============================] - 2s 13ms/step - loss: 0.1107 - accuracy: 0.9592 - val_loss: 0.1425 - val_accuracy: 0.9483\n",
            "Epoch 7/9\n",
            "150/150 [==============================] - 2s 11ms/step - loss: 0.0656 - accuracy: 0.9821 - val_loss: 0.2289 - val_accuracy: 0.9200\n",
            "Epoch 8/9\n",
            "150/150 [==============================] - 2s 13ms/step - loss: 0.0515 - accuracy: 0.9858 - val_loss: 0.1287 - val_accuracy: 0.9533\n",
            "Epoch 9/9\n",
            "150/150 [==============================] - 2s 12ms/step - loss: 0.0341 - accuracy: 0.9904 - val_loss: 0.0982 - val_accuracy: 0.9733\n"
          ]
        }
      ]
    },
    {
      "cell_type": "code",
      "source": [
        "model_3 = tf.keras.models.Sequential()\n",
        "\n",
        "model_3.add(tf.keras.layers.Conv2D(64, kernel_size = 3, activation = \"relu\"))\n",
        "model_3.add(tf.keras.layers.MaxPooling2D(pool_size = (2,2)))\n",
        "\n",
        "model_3.add(tf.keras.layers.Conv2D(64, kernel_size = 3, activation = \"relu\", kernel_initializer='he_uniform'))\n",
        "model_3.add(tf.keras.layers.MaxPooling2D(pool_size = (2,2)))\n",
        "\n",
        "model_3.add(tf.keras.layers.Conv2D(64, kernel_size = 3, activation = \"relu\", kernel_initializer='he_uniform'))\n",
        "model_3.add(tf.keras.layers.MaxPooling2D(pool_size = (2,2)))\n",
        "\n",
        "model_3.add(tf.keras.layers.Flatten())\n",
        "\n",
        "model_3.add(tf.keras.layers.Dense(64, activation = \"relu\"))\n",
        "model_3.add(tf.keras.layers.Dropout(0.5))\n",
        "\n",
        "model_3.add(tf.keras.layers.Dense(1, activation = \"sigmoid\"))\n",
        "\n",
        "model_3.compile(loss = tf.keras.losses.BinaryCrossentropy(), optimizer=tf.keras.optimizers.Adam(), metrics = [\"accuracy\"])\n",
        "\n",
        "\n",
        "history_3 = model_3.fit(x_train, y_train, batch_size = 16, epochs = 9, validation_data = (x_test, y_test))\n",
        "\n",
        "model_3.save(\"Brain_tumor_model_3.h5\")"
      ],
      "metadata": {
        "id": "rKFUMvbKRw4d",
        "outputId": "db0eb43c-6857-414d-b5e9-0f0bb2611302",
        "colab": {
          "base_uri": "https://localhost:8080/"
        }
      },
      "execution_count": 77,
      "outputs": [
        {
          "output_type": "stream",
          "name": "stdout",
          "text": [
            "Epoch 1/9\n",
            "150/150 [==============================] - 3s 17ms/step - loss: 0.5400 - accuracy: 0.7312 - val_loss: 0.4269 - val_accuracy: 0.8150\n",
            "Epoch 2/9\n",
            "150/150 [==============================] - 2s 14ms/step - loss: 0.4082 - accuracy: 0.8192 - val_loss: 0.3374 - val_accuracy: 0.8717\n",
            "Epoch 3/9\n",
            "150/150 [==============================] - 2s 14ms/step - loss: 0.3074 - accuracy: 0.8800 - val_loss: 0.2712 - val_accuracy: 0.8850\n",
            "Epoch 4/9\n",
            "150/150 [==============================] - 2s 16ms/step - loss: 0.2260 - accuracy: 0.9150 - val_loss: 0.3344 - val_accuracy: 0.8567\n",
            "Epoch 5/9\n",
            "150/150 [==============================] - 2s 15ms/step - loss: 0.1631 - accuracy: 0.9458 - val_loss: 0.1668 - val_accuracy: 0.9400\n",
            "Epoch 6/9\n",
            "150/150 [==============================] - 2s 15ms/step - loss: 0.1021 - accuracy: 0.9629 - val_loss: 0.1380 - val_accuracy: 0.9550\n",
            "Epoch 7/9\n",
            "150/150 [==============================] - 2s 15ms/step - loss: 0.0730 - accuracy: 0.9762 - val_loss: 0.1169 - val_accuracy: 0.9550\n",
            "Epoch 8/9\n",
            "150/150 [==============================] - 2s 14ms/step - loss: 0.0607 - accuracy: 0.9812 - val_loss: 0.1361 - val_accuracy: 0.9483\n",
            "Epoch 9/9\n",
            "150/150 [==============================] - 2s 15ms/step - loss: 0.0187 - accuracy: 0.9958 - val_loss: 0.1340 - val_accuracy: 0.9667\n"
          ]
        }
      ]
    }
  ],
  "metadata": {
    "interpreter": {
      "hash": "86d6111edaf2bc7a25cbb4457e82551a288b5f2fc072d6d36b96ca805b8fe1b8"
    },
    "kernelspec": {
      "display_name": "Python 3.9.7 ('base')",
      "language": "python",
      "name": "python3"
    },
    "language_info": {
      "codemirror_mode": {
        "name": "ipython",
        "version": 3
      },
      "file_extension": ".py",
      "mimetype": "text/x-python",
      "name": "python",
      "nbconvert_exporter": "python",
      "pygments_lexer": "ipython3",
      "version": "3.9.7"
    },
    "orig_nbformat": 4,
    "colab": {
      "name": "training_model.ipynb",
      "provenance": [],
      "include_colab_link": true
    },
    "accelerator": "GPU"
  },
  "nbformat": 4,
  "nbformat_minor": 0
}