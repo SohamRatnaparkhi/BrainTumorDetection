{
  "cells": [
    {
      "cell_type": "markdown",
      "metadata": {
        "id": "view-in-github",
        "colab_type": "text"
      },
      "source": [
        "<a href=\"https://colab.research.google.com/github/SohamRatnaparkhi/BrainTumorDetection/blob/main/training_model_g_colab.ipynb\" target=\"_parent\"><img src=\"https://colab.research.google.com/assets/colab-badge.svg\" alt=\"Open In Colab\"/></a>"
      ]
    },
    {
      "cell_type": "code",
      "execution_count": 10,
      "metadata": {
        "id": "UtrsM6cwZUl0"
      },
      "outputs": [],
      "source": [
        "import tensorflow as tf\n",
        "import numpy as np\n",
        "import matplotlib.pyplot as plt\n",
        "import cv2 as cv\n",
        "from PIL import Image"
      ]
    },
    {
      "cell_type": "markdown",
      "metadata": {
        "id": "8BGP4GsXZUl7"
      },
      "source": [
        "# Data managing"
      ]
    },
    {
      "cell_type": "markdown",
      "source": [
        "Unzipping data"
      ],
      "metadata": {
        "id": "vCdFDcMFcHaW"
      }
    },
    {
      "cell_type": "code",
      "source": [
        "!unzip \"/content/brain_tumor_dataset.zip\""
      ],
      "metadata": {
        "id": "pi9E0bEVcLGW"
      },
      "execution_count": null,
      "outputs": []
    },
    {
      "cell_type": "code",
      "source": [
        ""
      ],
      "metadata": {
        "id": "tTxOAXhgcGk8"
      },
      "execution_count": null,
      "outputs": []
    },
    {
      "cell_type": "markdown",
      "metadata": {
        "id": "s0lIBdDXZUl-"
      },
      "source": [
        "Declaring Constants"
      ]
    },
    {
      "cell_type": "code",
      "execution_count": 4,
      "metadata": {
        "id": "mD8qc2hxZUl_"
      },
      "outputs": [],
      "source": [
        "SIZE = 64\n",
        "path = r\"/content/brain_tumor_dataset\""
      ]
    },
    {
      "cell_type": "markdown",
      "metadata": {
        "id": "KQ_54t-zZUmA"
      },
      "source": [
        "Renaming the dataset in a better format for future use\n",
        "> **Note:** The code below should be run only once and not after that.  "
      ]
    },
    {
      "cell_type": "code",
      "execution_count": 5,
      "metadata": {
        "id": "yScebgDkZUmB",
        "outputId": "3a252d00-7d11-4d2b-a983-0ee14f66fd8a",
        "colab": {
          "base_uri": "https://localhost:8080/"
        }
      },
      "outputs": [
        {
          "output_type": "execute_result",
          "data": {
            "text/plain": [
              "['Br35H-Mask-RCNN', 'no', 'pred', 'yes']"
            ]
          },
          "metadata": {},
          "execution_count": 5
        }
      ],
      "source": [
        "import os\n",
        "\n",
        "# path = r\"D:\\College\\Capstone Project 2\\data\\brain_tumor_dataset\"\n",
        "path_items = os.listdir(path)\n",
        "path_items"
      ]
    },
    {
      "cell_type": "code",
      "execution_count": 7,
      "metadata": {
        "id": "HDtUNeRSZUmE"
      },
      "outputs": [],
      "source": [
        "import os\n",
        "\n",
        "# path = r\"D:\\College\\Capstone Project 2\\data\\brain_tumor_dataset\"\n",
        "path_items = os.listdir(path)\n",
        "\n",
        "yes_tumor_path = path + \"/\" + path_items[3]\n",
        "yes_tumor = os.listdir(yes_tumor_path)\n",
        "no_tumor_path = path + \"/\" + path_items[1]\n",
        "no_tumor = os.listdir(no_tumor_path)\n",
        "\n",
        "try:\n",
        "    y = 1\n",
        "    for ytp in yes_tumor:\n",
        "        os.rename(src = yes_tumor_path + \"/\" + ytp, dst = yes_tumor_path + \"/\" + f\"yes.{y}.jpg\")\n",
        "        y += 1\n",
        "        \n",
        "    n = 1\n",
        "    for ntp in no_tumor:\n",
        "    \n",
        "        os.rename(src = no_tumor_path + \"/\" + ntp, dst = no_tumor_path + \"/\" + f\"no.{n}.jpg\")\n",
        "        n += 1\n",
        "except:\n",
        "    pass\n",
        "\n"
      ]
    },
    {
      "cell_type": "markdown",
      "metadata": {
        "id": "bVmkhhf8ZUmG"
      },
      "source": [
        "Creating a `data` - `label` pair for `images` and its `type`"
      ]
    },
    {
      "cell_type": "code",
      "execution_count": 12,
      "metadata": {
        "id": "zm43pf_CZUmH"
      },
      "outputs": [],
      "source": [
        "data = []\n",
        "label = []\n",
        "\n",
        "# For no tumor \n",
        "for image in no_tumor:\n",
        "    try:\n",
        "        path = no_tumor_path + \"\\\\\" + image\n",
        "        image = cv.imread(path)\n",
        "        # r_image = cv.resize(src = image, dsize = (SIZE, SIZE))\n",
        "\n",
        "        data.append(image)\n",
        "        label.append(no_tumor[0].split(\".\")[0])\n",
        "    except Exception as e:\n",
        "        print(e)\n",
        "        break"
      ]
    },
    {
      "cell_type": "code",
      "execution_count": 13,
      "metadata": {
        "id": "YYU3dOpiZUmI"
      },
      "outputs": [],
      "source": [
        "#for yes tumor - 1\n",
        "for image in yes_tumor:\n",
        "    path = yes_tumor_path + \"\\\\\" + image\n",
        "    image = cv.imread(path)\n",
        "    # r_image = cv.resize(src = image, dsize = (SIZE, SIZE))\n",
        "\n",
        "    data.append(image)\n",
        "    label.append(yes_tumor[0].split(\".\")[0])"
      ]
    },
    {
      "cell_type": "markdown",
      "metadata": {
        "id": "P0PvWhl2ZUmJ"
      },
      "source": [
        "OneHotEncoding the labels\n",
        "> yes_tumour -> 1\n",
        "\n",
        "> no_tumour -> 0"
      ]
    },
    {
      "cell_type": "code",
      "execution_count": 14,
      "metadata": {
        "id": "-f68HYsRZUmK",
        "outputId": "51313e27-7a66-4d8b-e8a3-e3c9f7b593cf",
        "colab": {
          "base_uri": "https://localhost:8080/"
        }
      },
      "outputs": [
        {
          "output_type": "execute_result",
          "data": {
            "text/plain": [
              "array([[1., 0.],\n",
              "       [1., 0.],\n",
              "       [1., 0.],\n",
              "       ...,\n",
              "       [0., 1.],\n",
              "       [0., 1.],\n",
              "       [0., 1.]], dtype=float32)"
            ]
          },
          "metadata": {},
          "execution_count": 14
        }
      ],
      "source": [
        "from sklearn import preprocessing as sklprepro\n",
        "# import tensorflow.keras.utils\n",
        "from tensorflow.keras.utils import to_categorical\n",
        "\n",
        "lb = sklprepro.LabelBinarizer()\n",
        "binary_labels = lb.fit_transform(label)\n",
        "labels = to_categorical(binary_labels)\n",
        "labels"
      ]
    },
    {
      "cell_type": "code",
      "execution_count": 15,
      "metadata": {
        "id": "geJjgHkfZUmL"
      },
      "outputs": [],
      "source": [
        "from sklearn.model_selection import train_test_split as tts\n",
        "\n",
        "x_train, x_test, y_train, y_test = tts(data, labels, test_size = 0.20)"
      ]
    },
    {
      "cell_type": "markdown",
      "metadata": {
        "id": "TJBpOFFfZUmL"
      },
      "source": [
        "# Model Training"
      ]
    },
    {
      "cell_type": "markdown",
      "metadata": {
        "id": "QAhtg34RZUmM"
      },
      "source": [
        ""
      ]
    }
  ],
  "metadata": {
    "interpreter": {
      "hash": "86d6111edaf2bc7a25cbb4457e82551a288b5f2fc072d6d36b96ca805b8fe1b8"
    },
    "kernelspec": {
      "display_name": "Python 3.9.7 ('base')",
      "language": "python",
      "name": "python3"
    },
    "language_info": {
      "codemirror_mode": {
        "name": "ipython",
        "version": 3
      },
      "file_extension": ".py",
      "mimetype": "text/x-python",
      "name": "python",
      "nbconvert_exporter": "python",
      "pygments_lexer": "ipython3",
      "version": "3.9.7"
    },
    "orig_nbformat": 4,
    "colab": {
      "name": "training_model.ipynb",
      "provenance": [],
      "include_colab_link": true
    }
  },
  "nbformat": 4,
  "nbformat_minor": 0
}