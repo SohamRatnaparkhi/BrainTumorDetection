{
  "nbformat": 4,
  "nbformat_minor": 0,
  "metadata": {
    "colab": {
      "name": "Untitled1.ipynb",
      "provenance": [],
      "authorship_tag": "ABX9TyOwGPMq7KlGtdDrFHBsubZB",
      "include_colab_link": true
    },
    "kernelspec": {
      "name": "python3",
      "display_name": "Python 3"
    },
    "language_info": {
      "name": "python"
    },
    "accelerator": "GPU"
  },
  "cells": [
    {
      "cell_type": "markdown",
      "metadata": {
        "id": "view-in-github",
        "colab_type": "text"
      },
      "source": [
        "<a href=\"https://colab.research.google.com/github/SohamRatnaparkhi/BrainTumorDetection/blob/main/Brain_tumor_big_model.ipynb\" target=\"_parent\"><img src=\"https://colab.research.google.com/assets/colab-badge.svg\" alt=\"Open In Colab\"/></a>"
      ]
    },
    {
      "cell_type": "code",
      "execution_count": 1,
      "metadata": {
        "id": "Bgxamb4sc_Ut"
      },
      "outputs": [],
      "source": [
        "import tensorflow as tf\n",
        "import numpy as np\n",
        "import matplotlib.pyplot as plt\n",
        "import cv2 as cv\n",
        "from PIL import Image\n",
        "import os"
      ]
    },
    {
      "cell_type": "markdown",
      "source": [
        "# Data prepration"
      ],
      "metadata": {
        "id": "oJ7lUNKidHC9"
      }
    },
    {
      "cell_type": "code",
      "source": [
        "!unzip \"/content/brain_tumor_dataset.zip\""
      ],
      "metadata": {
        "id": "t0MmNIDMddOV"
      },
      "execution_count": null,
      "outputs": []
    },
    {
      "cell_type": "markdown",
      "source": [
        "Declaring constants"
      ],
      "metadata": {
        "id": "q7Xl7cT7fxaj"
      }
    },
    {
      "cell_type": "code",
      "source": [
        "SIZE = 224\n",
        "\n",
        "path = r\"/content/brain_tumor_dataset\"\n",
        "yes_tumor_path = path + r\"/yes\"\n",
        "no_tumor_path = path + r\"/no\"\n",
        "yes_tumor = os.listdir(yes_tumor_path)\n",
        "no_tumor = os.listdir(no_tumor_path)\n",
        "\n",
        "len(os.listdir(no_tumor_path)), len(os.listdir(yes_tumor_path))"
      ],
      "metadata": {
        "colab": {
          "base_uri": "https://localhost:8080/"
        },
        "id": "7gkIodqZdKgb",
        "outputId": "89d297d0-a132-47bf-dd28-36de1c87e2b7"
      },
      "execution_count": 3,
      "outputs": [
        {
          "output_type": "execute_result",
          "data": {
            "text/plain": [
              "(1500, 1500)"
            ]
          },
          "metadata": {},
          "execution_count": 3
        }
      ]
    },
    {
      "cell_type": "markdown",
      "source": [
        "Resizing all images in `224x224` pixel format"
      ],
      "metadata": {
        "id": "LSpBZ6QEgHIE"
      }
    },
    {
      "cell_type": "code",
      "source": [
        "# Resize yes_tumor images\n",
        "for p in yes_tumor:\n",
        "    path = yes_tumor_path+\"/\"+p\n",
        "    # resize_save(path)\n",
        "    try:\n",
        "        im = Image.open(path)\n",
        "        im = im.resize((SIZE, SIZE))\n",
        "        im.save(path)\n",
        "    except:\n",
        "        print(path)\n",
        "        break\n",
        "# Resize no_tumor\n",
        "for p in no_tumor:\n",
        "    path = no_tumor_path+\"/\"+p\n",
        "    # resize_save(path)\n",
        "    try:\n",
        "        im = Image.open(path)\n",
        "        im = im.resize((SIZE, SIZE))\n",
        "        im.save(path)\n",
        "    except:\n",
        "        print(path)\n",
        "        break"
      ],
      "metadata": {
        "id": "SM5469IBf5rb"
      },
      "execution_count": 4,
      "outputs": []
    },
    {
      "cell_type": "code",
      "source": [
        "len(os.listdir(yes_tumor_path)), len(os.listdir(no_tumor_path))"
      ],
      "metadata": {
        "colab": {
          "base_uri": "https://localhost:8080/"
        },
        "id": "jBF2nlLhhKe1",
        "outputId": "c2f049f6-2c2c-4b3c-c4ae-c5cde55dffe9"
      },
      "execution_count": 5,
      "outputs": [
        {
          "output_type": "execute_result",
          "data": {
            "text/plain": [
              "(1500, 1500)"
            ]
          },
          "metadata": {},
          "execution_count": 5
        }
      ]
    },
    {
      "cell_type": "markdown",
      "source": [
        "Creating `data` - `label` pairs\n",
        "> yes_tumor -> 1\n",
        ">>\n",
        "> no_tumor -> 0"
      ],
      "metadata": {
        "id": "5AROxL9zhPD1"
      }
    },
    {
      "cell_type": "code",
      "source": [
        "data = []\n",
        "label = []\n",
        "\n",
        "for p in yes_tumor:\n",
        "  path = yes_tumor_path+\"/\"+p\n",
        "  image = cv.imread(path)\n",
        "  # if image == None:\n",
        "  #   print(p)\n",
        "  data.append(image)\n",
        "  label.append(1)\n",
        "\n",
        "for p in no_tumor:\n",
        "  path = no_tumor_path+\"/\"+p\n",
        "  image = cv.imread(path)\n",
        "  # if image == None:\n",
        "  #   print(p)\n",
        "  data.append(image)\n",
        "  label.append(0)\n",
        "\n",
        "len(data) == len(label) == 3000"
      ],
      "metadata": {
        "colab": {
          "base_uri": "https://localhost:8080/"
        },
        "id": "hVmLXnOvhWgK",
        "outputId": "6163a24c-0942-4ce1-d298-0c6af8128902"
      },
      "execution_count": 6,
      "outputs": [
        {
          "output_type": "execute_result",
          "data": {
            "text/plain": [
              "True"
            ]
          },
          "metadata": {},
          "execution_count": 6
        }
      ]
    },
    {
      "cell_type": "markdown",
      "source": [
        "Normalizing data"
      ],
      "metadata": {
        "id": "7Sr-MzUQjNF1"
      }
    },
    {
      "cell_type": "code",
      "source": [
        "data = np.array(data)/255.0\n",
        "label = np.array(label)\n",
        "\n",
        "data.shape, label.shape"
      ],
      "metadata": {
        "colab": {
          "base_uri": "https://localhost:8080/"
        },
        "id": "Krd2suskjQpu",
        "outputId": "8aac6c61-75f0-4e5f-a913-6d3b8295f981"
      },
      "execution_count": 7,
      "outputs": [
        {
          "output_type": "execute_result",
          "data": {
            "text/plain": [
              "((3000, 224, 224, 3), (3000,))"
            ]
          },
          "metadata": {},
          "execution_count": 7
        }
      ]
    },
    {
      "cell_type": "markdown",
      "source": [
        "Splitting the data in `train` and `test` in **80-20** ratio"
      ],
      "metadata": {
        "id": "s_tMih-vjiuU"
      }
    },
    {
      "cell_type": "code",
      "source": [
        "from sklearn.model_selection import train_test_split as tts\n",
        "x_train, x_test, y_train, y_test = tts(data, label, test_size = 0.20)\n",
        "\n",
        "x_train.shape, x_test.shape, y_train.shape, y_test.shape"
      ],
      "metadata": {
        "colab": {
          "base_uri": "https://localhost:8080/"
        },
        "id": "K2pHIJKDjsCR",
        "outputId": "1dd0cb94-b807-4b27-f09a-b9865500043d"
      },
      "execution_count": 8,
      "outputs": [
        {
          "output_type": "execute_result",
          "data": {
            "text/plain": [
              "((2400, 224, 224, 3), (600, 224, 224, 3), (2400,), (600,))"
            ]
          },
          "metadata": {},
          "execution_count": 8
        }
      ]
    },
    {
      "cell_type": "markdown",
      "source": [
        "# Training the model"
      ],
      "metadata": {
        "id": "29AVqqklkWoN"
      }
    },
    {
      "cell_type": "code",
      "source": [
        "from tensorflow.keras.models import Sequential\n",
        "from tensorflow.keras.layers import Conv2D, MaxPooling2D, Flatten, Dropout, Dense\n",
        "from tensorflow.keras.optimizers import Adam\n",
        "from tensorflow.keras.losses import BinaryCrossentropy"
      ],
      "metadata": {
        "id": "VCxlu2EIkVve"
      },
      "execution_count": 10,
      "outputs": []
    },
    {
      "cell_type": "code",
      "source": [
        "model_1 = Sequential()\n",
        "\n",
        "model_1.add(Conv2D(64, kernel_size=3, activation='relu'))\n",
        "model_1.add(MaxPooling2D(pool_size = (2,2)))\n",
        "\n",
        "model_1.add(Conv2D(64, kernel_size=3, activation='relu', kernel_initializer=\"he_uniform\"))\n",
        "model_1.add(Conv2D(64, kernel_size=3, activation='relu'))\n",
        "\n",
        "model_1.add(Conv2D(64, kernel_size=3, activation='relu', kernel_initializer=\"he_uniform\"))\n",
        "model_1.add(Conv2D(64, kernel_size=3, activation='relu'))\n",
        "\n",
        "model_1.add(Flatten())\n",
        "\n",
        "model_1.add(Dense(1, activation='sigmoid'))\n",
        "\n",
        "\n",
        "model_1.compile(optimizer=Adam(), loss = BinaryCrossentropy(),  metrics = [\"accuracy\"])\n",
        "\n",
        "\n",
        "history = model_1.fit(x_train, y_train, epochs = 10, validation_data=(x_test, y_test), batch_size = 16)\n",
        "\n",
        "\n",
        "model_1.save(\"Big_Brain_tumor_model_1.h5\")"
      ],
      "metadata": {
        "colab": {
          "base_uri": "https://localhost:8080/"
        },
        "id": "ti2oRBGZjufz",
        "outputId": "2bebf549-f1dd-4e9e-beb8-5e098c024154"
      },
      "execution_count": 11,
      "outputs": [
        {
          "output_type": "stream",
          "name": "stdout",
          "text": [
            "Epoch 1/10\n",
            "150/150 [==============================] - 26s 80ms/step - loss: 0.5453 - accuracy: 0.7550 - val_loss: 0.4069 - val_accuracy: 0.7867\n",
            "Epoch 2/10\n",
            "150/150 [==============================] - 11s 70ms/step - loss: 0.2916 - accuracy: 0.8821 - val_loss: 0.1670 - val_accuracy: 0.9367\n",
            "Epoch 3/10\n",
            "150/150 [==============================] - 10s 70ms/step - loss: 0.1155 - accuracy: 0.9613 - val_loss: 0.2459 - val_accuracy: 0.9017\n",
            "Epoch 4/10\n",
            "150/150 [==============================] - 10s 70ms/step - loss: 0.0745 - accuracy: 0.9779 - val_loss: 0.1221 - val_accuracy: 0.9617\n",
            "Epoch 5/10\n",
            "150/150 [==============================] - 11s 70ms/step - loss: 0.0264 - accuracy: 0.9908 - val_loss: 0.1859 - val_accuracy: 0.9683\n",
            "Epoch 6/10\n",
            "150/150 [==============================] - 11s 71ms/step - loss: 0.0204 - accuracy: 0.9950 - val_loss: 0.1677 - val_accuracy: 0.9683\n",
            "Epoch 7/10\n",
            "150/150 [==============================] - 11s 71ms/step - loss: 0.0208 - accuracy: 0.9925 - val_loss: 0.2033 - val_accuracy: 0.9700\n",
            "Epoch 8/10\n",
            "150/150 [==============================] - 11s 71ms/step - loss: 0.0076 - accuracy: 0.9971 - val_loss: 0.1891 - val_accuracy: 0.9700\n",
            "Epoch 9/10\n",
            "150/150 [==============================] - 11s 71ms/step - loss: 0.0058 - accuracy: 0.9979 - val_loss: 0.3329 - val_accuracy: 0.9600\n",
            "Epoch 10/10\n",
            "150/150 [==============================] - 11s 72ms/step - loss: 0.0269 - accuracy: 0.9896 - val_loss: 0.2450 - val_accuracy: 0.9700\n"
          ]
        }
      ]
    },
    {
      "cell_type": "code",
      "source": [
        "model_1.summary()"
      ],
      "metadata": {
        "colab": {
          "base_uri": "https://localhost:8080/"
        },
        "id": "xsFmBxQWpeJ8",
        "outputId": "8fa6c7ef-0842-4307-9811-7c81d1a0077d"
      },
      "execution_count": 13,
      "outputs": [
        {
          "output_type": "stream",
          "name": "stdout",
          "text": [
            "Model: \"sequential\"\n",
            "_________________________________________________________________\n",
            " Layer (type)                Output Shape              Param #   \n",
            "=================================================================\n",
            " conv2d (Conv2D)             (None, 222, 222, 64)      1792      \n",
            "                                                                 \n",
            " max_pooling2d (MaxPooling2D  (None, 111, 111, 64)     0         \n",
            " )                                                               \n",
            "                                                                 \n",
            " conv2d_1 (Conv2D)           (None, 109, 109, 64)      36928     \n",
            "                                                                 \n",
            " conv2d_2 (Conv2D)           (None, 107, 107, 64)      36928     \n",
            "                                                                 \n",
            " conv2d_3 (Conv2D)           (None, 105, 105, 64)      36928     \n",
            "                                                                 \n",
            " conv2d_4 (Conv2D)           (None, 103, 103, 64)      36928     \n",
            "                                                                 \n",
            " flatten (Flatten)           (None, 678976)            0         \n",
            "                                                                 \n",
            " dense (Dense)               (None, 1)                 678977    \n",
            "                                                                 \n",
            "=================================================================\n",
            "Total params: 828,481\n",
            "Trainable params: 828,481\n",
            "Non-trainable params: 0\n",
            "_________________________________________________________________\n"
          ]
        }
      ]
    },
    {
      "cell_type": "markdown",
      "source": [
        "Generating reports"
      ],
      "metadata": {
        "id": "eMVJc_JXqQXZ"
      }
    },
    {
      "cell_type": "code",
      "source": [
        "from sklearn import preprocessing as p\n",
        "from sklearn.metrics import classification_report, confusion_matrix\n",
        "\n",
        "predictions = model_1.predict(x_test, batch_size= 16)\n",
        "predictions = np.argmax(predictions, axis= 1)\n",
        "actuals = np.argmax(y_test, axis= 0)\n",
        "\n",
        "print(classification_report(actuals, predictions, target_names= p.label_binarizer.classes_))\n",
        "\n",
        "cm = confusion_matrix(actuals, predictions)\n",
        "print(cm)"
      ],
      "metadata": {
        "id": "cm64Qd5sqNmU"
      },
      "execution_count": null,
      "outputs": []
    }
  ]
} 
