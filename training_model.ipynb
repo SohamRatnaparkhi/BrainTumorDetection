{
 "cells": [
  {
   "cell_type": "code",
   "execution_count": 19,
   "metadata": {},
   "outputs": [],
   "source": [
    "import tensorflow as tf\n",
    "import numpy as np\n",
    "import matplotlib.pyplot as plt\n",
    "import cv2 as cv\n",
    "from PIL import Image"
   ]
  },
  {
   "cell_type": "markdown",
   "metadata": {},
   "source": [
    "# Data managing"
   ]
  },
  {
   "cell_type": "markdown",
   "metadata": {},
   "source": [
    "Declaring Constants"
   ]
  },
  {
   "cell_type": "code",
   "execution_count": 2,
   "metadata": {},
   "outputs": [],
   "source": [
    "SIZE = 64"
   ]
  },
  {
   "cell_type": "markdown",
   "metadata": {},
   "source": [
    "Renaming the dataset in a better format for future use\n",
    "> **Note:** The code below should be run only once and not after that.  "
   ]
  },
  {
   "cell_type": "code",
   "execution_count": 7,
   "metadata": {},
   "outputs": [
    {
     "data": {
      "text/plain": [
       "['Br35H-Mask-RCNN', 'no', 'pred', 'yes']"
      ]
     },
     "execution_count": 7,
     "metadata": {},
     "output_type": "execute_result"
    }
   ],
   "source": [
    "import os\n",
    "\n",
    "path = r\"D:\\College\\Capstone Project 2\\data\\brain_tumor_dataset\"\n",
    "path_items = os.listdir(path)\n",
    "path_items"
   ]
  },
  {
   "cell_type": "code",
   "execution_count": 22,
   "metadata": {},
   "outputs": [],
   "source": [
    "import os\n",
    "\n",
    "path = r\"D:\\College\\Capstone Project 2\\data\\brain_tumor_dataset\"\n",
    "path_items = os.listdir(path)\n",
    "\n",
    "yes_tumor_path = path + \"\\\\\" + path_items[3]\n",
    "yes_tumor = os.listdir(yes_tumor_path)\n",
    "no_tumor_path = path + \"\\\\\" + path_items[1]\n",
    "no_tumor = os.listdir(no_tumor_path)\n",
    "\n",
    "try:\n",
    "    y = 1\n",
    "    for ytp in yes_tumor:\n",
    "        os.rename(src = yes_tumor_path + \"\\\\\" + ytp, dst = yes_tumor_path + \"\\\\\" + f\"yes.{y}.jpg\")\n",
    "        y += 1\n",
    "        \n",
    "    n = 1\n",
    "    for ntp in no_tumor:\n",
    "    \n",
    "        os.rename(src = no_tumor_path + \"\\\\\" + ntp, dst = no_tumor_path + \"\\\\\" + f\"no.{n}.jpg\")\n",
    "        n += 1\n",
    "except:\n",
    "    pass\n",
    "\n"
   ]
  },
  {
   "cell_type": "markdown",
   "metadata": {},
   "source": [
    "Creating a `data` - `label` pair for `images` and its `type`.\n",
    "Also resizing images to `64x64` pixels."
   ]
  },
  {
   "cell_type": "code",
   "execution_count": 23,
   "metadata": {},
   "outputs": [],
   "source": [
    "data = []\n",
    "label = []\n",
    "\n",
    "# For no tumor \n",
    "for image in no_tumor:\n",
    "    try:\n",
    "        path = no_tumor_path + \"\\\\\" + image\n",
    "        image = cv.imread(path)\n",
    "        r_image = cv.resize(src = image, dsize = (SIZE, SIZE))\n",
    "\n",
    "        data.append(r_image)\n",
    "        label.append(no_tumor[0].split(\".\")[0])\n",
    "    except:\n",
    "        print(image)"
   ]
  },
  {
   "cell_type": "code",
   "execution_count": 24,
   "metadata": {},
   "outputs": [],
   "source": [
    "#for yes tumor - 1\n",
    "for image in yes_tumor:\n",
    "    path = yes_tumor_path + \"\\\\\" + image\n",
    "    image = cv.imread(path)\n",
    "    r_image = cv.resize(src = image, dsize = (SIZE, SIZE))\n",
    "\n",
    "    data.append(r_image)\n",
    "    label.append(yes_tumor[0].split(\".\")[0])"
   ]
  },
  {
   "cell_type": "markdown",
   "metadata": {},
   "source": [
    "OneHotEncoding the labels\n",
    "> yes_tumour -> 1\n",
    "\n",
    "> no_tumour -> 0"
   ]
  },
  {
   "cell_type": "code",
   "execution_count": null,
   "metadata": {},
   "outputs": [],
   "source": [
    "from sklearn import preprocessing as sklprepro\n",
    "# import tensorflow.keras.utils\n",
    "from tensorflow.keras.utils import to_categorical\n",
    "\n",
    "lb = sklprepro.LabelBinarizer()\n",
    "binary_labels = lb.fit_transform(label)\n",
    "labels = to_categorical(binary_labels)\n",
    "labels"
   ]
  },
  {
   "cell_type": "code",
   "execution_count": 52,
   "metadata": {},
   "outputs": [],
   "source": [
    "from sklearn.model_selection import train_test_split as tts\n",
    "\n",
    "x_train, x_test, y_train, y_test = tts(data, labels, test_size = 0.20)"
   ]
  },
  {
   "cell_type": "markdown",
   "metadata": {},
   "source": [
    "# Model Training"
   ]
  },
  {
   "cell_type": "markdown",
   "metadata": {},
   "source": []
  }
 ],
 "metadata": {
  "interpreter": {
   "hash": "86d6111edaf2bc7a25cbb4457e82551a288b5f2fc072d6d36b96ca805b8fe1b8"
  },
  "kernelspec": {
   "display_name": "Python 3.9.7 ('base')",
   "language": "python",
   "name": "python3"
  },
  "language_info": {
   "codemirror_mode": {
    "name": "ipython",
    "version": 3
   },
   "file_extension": ".py",
   "mimetype": "text/x-python",
   "name": "python",
   "nbconvert_exporter": "python",
   "pygments_lexer": "ipython3",
   "version": "3.9.7"
  },
  "orig_nbformat": 4
 },
 "nbformat": 4,
 "nbformat_minor": 2
}
